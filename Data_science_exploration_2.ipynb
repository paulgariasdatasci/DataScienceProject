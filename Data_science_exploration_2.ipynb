{
 "cells": [
  {
   "cell_type": "markdown",
   "metadata": {},
   "source": [
    "# Developing a visualization to monitor energy comsumption "
   ]
  },
  {
   "cell_type": "markdown",
   "metadata": {},
   "source": [
    "### Data for the project can be found in the UCI Machine Learning Repository located here:\n",
    "https://archive.ics.uci.edu/ml/datasets/Individual+household+electric+power+consumption"
   ]
  },
  {
   "cell_type": "markdown",
   "metadata": {},
   "source": [
    "#### Data description (after clean-up)"
   ]
  },
  {
   "cell_type": "markdown",
   "metadata": {},
   "source": [
    "1.date-time: Datetime in format yyyy-mm-dd hh:mm:ss \n",
    "\n",
    "2.global_active_power: household global minute-averaged active power (in kilowatt) \n",
    "\n",
    "3.global_reactive_power: household global minute-averaged reactive power (in kilowatt) \n",
    "\n",
    "4.voltage: minute-averaged voltage (in volt) \n",
    "\n",
    "5.global_intensity: household global minute-averaged current intensity (in ampere) \n",
    "\n",
    "6.sub_metering_1: energy sub-metering No. 1 (in watt-hour of active energy). It corresponds to the kitchen, containing mainly a dishwasher, an oven and a microwave (hot plates are not electric but gas powered). \n",
    "\n",
    "7.sub_metering_2: energy sub-metering No. 2 (in watt-hour of active energy). It corresponds to the laundry room, containing a washing-machine, a tumble-drier, a refrigerator and a light. \n",
    "\n",
    "8.sub_metering_3: energy sub-metering No. 3 (in watt-hour of active energy). It corresponds to an electric water-heater and an air-conditioner."
   ]
  },
  {
   "cell_type": "code",
   "execution_count": 2,
   "metadata": {
    "collapsed": false
   },
   "outputs": [],
   "source": [
    "import matplotlib.pylab as plt\n",
    "%matplotlib inline"
   ]
  },
  {
   "cell_type": "code",
   "execution_count": 59,
   "metadata": {
    "collapsed": true
   },
   "outputs": [],
   "source": [
    "# Additional modules\n",
    "import numpy as np\n",
    "import pandas as pd\n",
    "from datetime import datetime\n",
    "import time\n",
    "from datasci_prj.dayofweek import dayofweek #This function returns the day of week in text\n",
    "from datasci_prj.monthofyear import monthofyear #This function returns the day of week in text"
   ]
  },
  {
   "cell_type": "code",
   "execution_count": 95,
   "metadata": {
    "collapsed": false
   },
   "outputs": [],
   "source": [
    "# Read the datasets and append\n",
    "df1 = pd.read_csv('household_power_consumption_set_1.csv', \n",
    "                   sep=',',header=0,low_memory=False)\n",
    "df2 = pd.read_csv('household_power_consumption_set_2.csv', \n",
    "                   sep=',',header=0,low_memory=False)\n",
    "df3 = pd.read_csv('household_power_consumption_set_3.csv', \n",
    "                   sep=',',header=0,low_memory=False)\n",
    "df = df1.append(df2.append(df3))\n",
    "df = df.reset_index(drop=True)\n",
    "df['Datetime']=pd.to_datetime(df['Datetime'])\n"
   ]
  },
  {
   "cell_type": "code",
   "execution_count": 96,
   "metadata": {
    "collapsed": false
   },
   "outputs": [
    {
     "name": "stdout",
     "output_type": "stream",
     "text": [
      "The first entry of this dataset begins on Saturday, December 16, 2006\n",
      "at 17:24:00\n"
     ]
    }
   ],
   "source": [
    "entry1 = df.Datetime[0]\n",
    "print 'The first entry of this dataset begins on'+\\\n",
    "      ' '+dayofweek(entry1.weekday())+', ' +\\\n",
    "          monthofyear(entry1.month)+' '+ str(entry1.day)+\\\n",
    "      ', '+str(entry1.year) \n",
    "print 'at', entry1.time()"
   ]
  },
  {
   "cell_type": "markdown",
   "metadata": {},
   "source": [
    "### Plot out one day's global active power usage"
   ]
  },
  {
   "cell_type": "code",
   "execution_count": 102,
   "metadata": {
    "collapsed": false
   },
   "outputs": [],
   "source": [
    "# This is on Boxing day of 2006 \n",
    "df4 = df[ (df['Datetime'] > datetime(2006,12,25,0,0,0) ) \n",
    "        &  (df['Datetime'] < datetime(2006,12,26,0,0,0) ) ]"
   ]
  },
  {
   "cell_type": "code",
   "execution_count": 103,
   "metadata": {
    "collapsed": false
   },
   "outputs": [
    {
     "data": {
      "text/plain": [
       "[<matplotlib.lines.Line2D at 0x133950a90>]"
      ]
     },
     "execution_count": 103,
     "metadata": {},
     "output_type": "execute_result"
    },
    {
     "data": {
      "image/png": "[encoded data removed]",
      "text/plain": [
       "<matplotlib.figure.Figure at 0x1339221d0>"
      ]
     },
     "metadata": {},
     "output_type": "display_data"
    }
   ],
   "source": [
    "plt.plot(df4.Datetime.tolist(), df4.Global_active_power)"
   ]
  },
  {
   "cell_type": "code",
   "execution_count": null,
   "metadata": {
    "collapsed": true
   },
   "outputs": [],
   "source": []
  }
 ],
 "metadata": {
  "kernelspec": {
   "display_name": "Python 2",
   "language": "python",
   "name": "python2"
  },
  "language_info": {
   "codemirror_mode": {
    "name": "ipython",
    "version": 2
   },
   "file_extension": ".py",
   "mimetype": "text/x-python",
   "name": "python",
   "nbconvert_exporter": "python",
   "pygments_lexer": "ipython2",
   "version": "2.7.11"
  }
 },
 "nbformat": 4,
 "nbformat_minor": 0
}
