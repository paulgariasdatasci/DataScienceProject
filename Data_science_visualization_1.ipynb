{
 "cells": [
  {
   "cell_type": "markdown",
   "metadata": {},
   "source": [
    "# Developing a visualization to monitor energy comsumption "
   ]
  },
  {
   "cell_type": "markdown",
   "metadata": {},
   "source": [
    "### Data for the project can be found in the UCI Machine Learning Repository located here:\n",
    "https://archive.ics.uci.edu/ml/datasets/Individual+household+electric+power+consumption"
   ]
  },
  {
   "cell_type": "markdown",
   "metadata": {},
   "source": [
    "#### Data description (after clean-up)"
   ]
  },
  {
   "cell_type": "markdown",
   "metadata": {},
   "source": [
    "1.date-time: Datetime in format yyyy-mm-dd hh:mm:ss \n",
    "\n",
    "2.global_active_power: household global minute-averaged active power (in kilowatt) \n",
    "\n",
    "3.global_reactive_power: household global minute-averaged reactive power (in kilowatt) \n",
    "\n",
    "4.voltage: minute-averaged voltage (in volt) \n",
    "\n",
    "5.global_intensity: household global minute-averaged current intensity (in ampere) \n",
    "\n",
    "6.sub_metering_1: energy sub-metering No. 1 (in watt-hour of active energy). It corresponds to the kitchen, containing mainly a dishwasher, an oven and a microwave (hot plates are not electric but gas powered). \n",
    "\n",
    "7.sub_metering_2: energy sub-metering No. 2 (in watt-hour of active energy). It corresponds to the laundry room, containing a washing-machine, a tumble-drier, a refrigerator and a light. \n",
    "\n",
    "8.sub_metering_3: energy sub-metering No. 3 (in watt-hour of active energy). It corresponds to an electric water-heater and an air-conditioner."
   ]
  },
  {
   "cell_type": "code",
   "execution_count": 4,
   "metadata": {
    "collapsed": false
   },
   "outputs": [],
   "source": [
    "import matplotlib.pylab as plt\n",
    "%matplotlib inline"
   ]
  },
  {
   "cell_type": "code",
   "execution_count": 5,
   "metadata": {
    "collapsed": false
   },
   "outputs": [],
   "source": [
    "#Make sure that you use the api key, using plotly\n",
    "import plotly.plotly as py\n",
    "import plotly.graph_objs as go"
   ]
  },
  {
   "cell_type": "code",
   "execution_count": 6,
   "metadata": {
    "collapsed": true
   },
   "outputs": [],
   "source": [
    "import pandas as pd\n",
    "import numpy as np\n",
    "from datetime import datetime\n",
    "import time\n",
    "from datasci_prj.dayofweek import dayofweek #This function returns the day of week in text\n",
    "from datasci_prj.monthofyear import monthofyear #This function returns the day of week in text\n",
    "from datasci_prj.functions import get_time_from_dt_list # This functions returns just the time from a list of datetimes"
   ]
  },
  {
   "cell_type": "code",
   "execution_count": 7,
   "metadata": {
    "collapsed": true
   },
   "outputs": [],
   "source": [
    "# Read the datasets and append\n",
    "df1 = pd.read_csv('household_power_consumption_set_1.csv', \n",
    "                   sep=',',header=0,low_memory=False)\n",
    "df2 = pd.read_csv('household_power_consumption_set_2.csv', \n",
    "                   sep=',',header=0,low_memory=False)\n",
    "df3 = pd.read_csv('household_power_consumption_set_3.csv', \n",
    "                   sep=',',header=0,low_memory=False)\n",
    "df = df1.append(df2.append(df3))\n",
    "df = df.reset_index(drop=True)\n",
    "df['Datetime']=pd.to_datetime(df['Datetime'])"
   ]
  },
  {
   "cell_type": "code",
   "execution_count": 8,
   "metadata": {
    "collapsed": false
   },
   "outputs": [
    {
     "name": "stdout",
     "output_type": "stream",
     "text": [
      "The first entry of this dataset begins on Saturday, December 16, 2006\n",
      "at 17:24:00\n"
     ]
    }
   ],
   "source": [
    "entry1 = df.Datetime[0]\n",
    "print 'The first entry of this dataset begins on'+\\\n",
    "      ' '+dayofweek(entry1.weekday())+', ' +\\\n",
    "          monthofyear(entry1.month)+' '+ str(entry1.day)+\\\n",
    "      ', '+str(entry1.year) \n",
    "print 'at', entry1.time()"
   ]
  },
  {
   "cell_type": "code",
   "execution_count": 9,
   "metadata": {
    "collapsed": true
   },
   "outputs": [],
   "source": [
    "# This is on Boxing day of 2006 \n",
    "df4 = df[ (df['Datetime'] > datetime(2006,12,27,0,0,0) ) \n",
    "        &  (df['Datetime'] < datetime(2006,12,28,0,0,0) ) ]"
   ]
  },
  {
   "cell_type": "code",
   "execution_count": 10,
   "metadata": {
    "collapsed": false
   },
   "outputs": [
    {
     "data": {
      "text/html": [
       "<iframe id=\"igraph\" scrolling=\"no\" style=\"border:none;\" seamless=\"seamless\" src=\"https://plot.ly/~ariaspaul/10.embed\" height=\"525px\" width=\"100%\"></iframe>"
      ],
      "text/plain": [
       "<plotly.tools.PlotlyDisplay object>"
      ]
     },
     "execution_count": 10,
     "metadata": {},
     "output_type": "execute_result"
    }
   ],
   "source": [
    "trace2 = go.Scatter(\n",
    "    x = df4.Datetime.tolist(),\n",
    "    y = df4.Global_active_power.tolist(),\n",
    "    mode = 'lines',\n",
    "    name = 'Global_active_power'\n",
    ")\n",
    "data = [trace2]\n",
    "\n",
    "# Plot and embed in ipython notebook!\n",
    "#py.iplot(data, filename='scatter-mode')\n",
    "\n",
    "layout = go.Layout(\n",
    "    showlegend=True,\n",
    "    legend=dict(\n",
    "        x=0.1,\n",
    "        y=1\n",
    "    )\n",
    ")\n",
    "fig = go.Figure(data=data, layout=layout)\n",
    "py.iplot(fig, filename='Global-active-power')\n"
   ]
  },
  {
   "cell_type": "code",
   "execution_count": 11,
   "metadata": {
    "collapsed": false
   },
   "outputs": [
    {
     "data": {
      "text/html": [
       "<iframe id=\"igraph\" scrolling=\"no\" style=\"border:none;\" seamless=\"seamless\" src=\"https://plot.ly/~ariaspaul/12.embed\" height=\"525px\" width=\"100%\"></iframe>"
      ],
      "text/plain": [
       "<plotly.tools.PlotlyDisplay object>"
      ]
     },
     "execution_count": 11,
     "metadata": {},
     "output_type": "execute_result"
    }
   ],
   "source": [
    "from statsmodels.nonparametric.smoothers_lowess import lowess\n",
    "filtered = lowess(np.array(df4.Global_active_power.tolist()), np.linspace(0,1,len(df4)), is_sorted=True, frac=0.01, it=0)\n",
    "trace2 = go.Scatter(\n",
    "    x = df4.Datetime.tolist(),\n",
    "    y = filtered[:,1],\n",
    "    mode = 'lines',\n",
    "    name = 'Global_active_power_filtered'\n",
    ")\n",
    "\n",
    "data = [trace2]\n",
    "\n",
    "# Plot and embed in ipython notebook!\n",
    "#py.iplot(data, filename='scatter-mode')\n",
    "\n",
    "layout = go.Layout(\n",
    "    showlegend=True,\n",
    "    legend=dict(\n",
    "        x=0.1,\n",
    "        y=1\n",
    "    )\n",
    ")\n",
    "fig = go.Figure(data=data, layout=layout)\n",
    "py.iplot(fig, filename='Global-active-power-filtered')\n",
    "\n"
   ]
  },
  {
   "cell_type": "code",
   "execution_count": 12,
   "metadata": {
    "collapsed": false
   },
   "outputs": [],
   "source": [
    "# Get the time from a list of timestamps\n",
    "# time_list = get_time_from_dt_list(df4.Datetime.tolist())"
   ]
  },
  {
   "cell_type": "markdown",
   "metadata": {},
   "source": [
    "### Plot the global active power over a the consecutive days spanning Christmas Eve through Boxing Day, 2006"
   ]
  },
  {
   "cell_type": "code",
   "execution_count": 13,
   "metadata": {
    "collapsed": true
   },
   "outputs": [],
   "source": [
    "# Get the dataframes within each day\n",
    "df_24 = df[ (df['Datetime'] >= datetime(2006,12,24,0,0,0) ) \n",
    "        &   (df['Datetime'] < datetime(2006,12,25,0,0,0) ) ]\n",
    "df_25 = df[ (df['Datetime'] >= datetime(2006,12,25,0,0,0) ) \n",
    "        &   (df['Datetime'] < datetime(2006,12,26,0,0,0) ) ]\n",
    "df_26 = df[ (df['Datetime'] >= datetime(2006,12,26,0,0,0) ) \n",
    "        &   (df['Datetime'] < datetime(2006,12,27,0,0,0) ) ]"
   ]
  },
  {
   "cell_type": "code",
   "execution_count": 14,
   "metadata": {
    "collapsed": false
   },
   "outputs": [],
   "source": [
    "#get the list of the time in each day (actually only need one of them)\n",
    "time_list_24 = get_time_from_dt_list(df_24.Datetime.tolist())\n",
    "time_list_25 = get_time_from_dt_list(df_25.Datetime.tolist())\n",
    "time_list_26 = get_time_from_dt_list(df_26.Datetime.tolist())"
   ]
  },
  {
   "cell_type": "code",
   "execution_count": 15,
   "metadata": {
    "collapsed": false
   },
   "outputs": [
    {
     "data": {
      "text/html": [
       "<iframe id=\"igraph\" scrolling=\"no\" style=\"border:none;\" seamless=\"seamless\" src=\"https://plot.ly/~ariaspaul/8.embed\" height=\"525px\" width=\"100%\"></iframe>"
      ],
      "text/plain": [
       "<plotly.tools.PlotlyDisplay object>"
      ]
     },
     "execution_count": 15,
     "metadata": {},
     "output_type": "execute_result"
    }
   ],
   "source": [
    "trace_24 = go.Scatter(\n",
    "    x = df_24.Datetime.tolist(),\n",
    "    y = df_24.Global_active_power.tolist(),\n",
    "    mode = 'lines',\n",
    "    name = 'Global_active_power on Dec 24, 2006'\n",
    ")\n",
    "\n",
    "trace_25 = go.Scatter(\n",
    "    x = df_25.Datetime.tolist(),\n",
    "    y = df_25.Global_active_power.tolist(),\n",
    "    mode = 'lines',\n",
    "    name = 'Global_active_power on Dec 25, 2006'\n",
    ")\n",
    "\n",
    "trace_26 = go.Scatter(\n",
    "    x = df_26.Datetime.tolist(),\n",
    "    y = df_26.Global_active_power.tolist(),\n",
    "    mode = 'lines',\n",
    "    name = 'Global_active_power on Dec 26, 2006'\n",
    ")\n",
    "\n",
    "data = [trace_24, trace_25, trace_26]\n",
    "\n",
    "# Plot and embed in ipython notebook!\n",
    "#py.iplot(data, filename='scatter-mode')\n",
    "\n",
    "layout = go.Layout(\n",
    "    showlegend=True,\n",
    "    legend=dict(\n",
    "        x=0.1,\n",
    "        y=1\n",
    "    )\n",
    ")\n",
    "fig = go.Figure(data=data, layout=layout)\n",
    "py.iplot(fig, filename='Global-active-power Daterange')\n",
    "\n"
   ]
  },
  {
   "cell_type": "code",
   "execution_count": 16,
   "metadata": {
    "collapsed": false
   },
   "outputs": [
    {
     "data": {
      "text/html": [
       "<iframe id=\"igraph\" scrolling=\"no\" style=\"border:none;\" seamless=\"seamless\" src=\"https://plot.ly/~ariaspaul/8.embed\" height=\"525px\" width=\"100%\"></iframe>"
      ],
      "text/plain": [
       "<plotly.tools.PlotlyDisplay object>"
      ]
     },
     "execution_count": 16,
     "metadata": {},
     "output_type": "execute_result"
    }
   ],
   "source": [
    "\n",
    "\n",
    "trace_24 = go.Scatter(\n",
    "    x = time_list_24,\n",
    "    y = df_24.Global_active_power.tolist(),\n",
    "    mode = 'lines',\n",
    "    name = 'Global_active_power on Dec 24, 2006'\n",
    ")\n",
    "\n",
    "trace_25 = go.Scatter(\n",
    "    x = time_list_25,\n",
    "    y = df_25.Global_active_power.tolist(),\n",
    "    mode = 'lines',\n",
    "    name = 'Global_active_power on Dec 25, 2006'\n",
    ")\n",
    "\n",
    "trace_26 = go.Scatter(\n",
    "    x = time_list_26,\n",
    "    y = df_26.Global_active_power.tolist(),\n",
    "    mode = 'lines',\n",
    "    name = 'Global_active_power on Dec 26, 2006'\n",
    ")\n",
    "\n",
    "data = [trace_24, trace_25, trace_26]\n",
    "\n",
    "# Plot and embed in ipython notebook!\n",
    "#py.iplot(data, filename='scatter-mode')\n",
    "\n",
    "layout = go.Layout(\n",
    "    showlegend=True,\n",
    "    legend=dict(\n",
    "        x=0.1,\n",
    "        y=1\n",
    "    )\n",
    ")\n",
    "fig2 = go.Figure(data=data, layout=layout)\n",
    "py.iplot(fig2, filename='Global-active-power Daterange')"
   ]
  },
  {
   "cell_type": "code",
   "execution_count": 17,
   "metadata": {
    "collapsed": false
   },
   "outputs": [
    {
     "data": {
      "text/html": [
       "<iframe id=\"igraph\" scrolling=\"no\" style=\"border:none;\" seamless=\"seamless\" src=\"https://plot.ly/~ariaspaul/8.embed\" height=\"525px\" width=\"100%\"></iframe>"
      ],
      "text/plain": [
       "<plotly.tools.PlotlyDisplay object>"
      ]
     },
     "execution_count": 17,
     "metadata": {},
     "output_type": "execute_result"
    }
   ],
   "source": [
    "#Filtered data\n",
    "filtered_24 = lowess(np.array(df_24.Global_active_power.tolist()), np.linspace(0,1,len(df_24)), is_sorted=True, frac=0.01, it=0)\n",
    "filtered_25 = lowess(np.array(df_25.Global_active_power.tolist()), np.linspace(0,1,len(df_25)), is_sorted=True, frac=0.01, it=0)\n",
    "filtered_26 = lowess(np.array(df_26.Global_active_power.tolist()), np.linspace(0,1,len(df_26)), is_sorted=True, frac=0.01, it=0)\n",
    "\n",
    "trace_24 = go.Scatter(\n",
    "    x = time_list_24,\n",
    "    y = filtered_24[:,1],\n",
    "    mode = 'lines',\n",
    "    name = 'Global_active_power on Dec 24, 2006'\n",
    ")\n",
    "\n",
    "trace_25 = go.Scatter(\n",
    "    x = time_list_25,\n",
    "    y = filtered_25[:,1],\n",
    "    mode = 'lines',\n",
    "    name = 'Global_active_power on Dec 25, 2006'\n",
    ")\n",
    "\n",
    "trace_26 = go.Scatter(\n",
    "    x = time_list_26,\n",
    "    y = filtered_26[:,1],\n",
    "    mode = 'lines',\n",
    "    name = 'Global_active_power on Dec 26, 2006'\n",
    ")\n",
    "\n",
    "data = [trace_24, trace_25, trace_26]\n",
    "\n",
    "# Plot and embed in ipython notebook!\n",
    "#py.iplot(data, filename='scatter-mode')\n",
    "\n",
    "layout = go.Layout(\n",
    "    showlegend=True,\n",
    "    legend=dict(\n",
    "        x=0.1,\n",
    "        y=1\n",
    "    )\n",
    ")\n",
    "fig3 = go.Figure(data=data, layout=layout)\n",
    "py.iplot(fig3, filename='Global-active-power Daterange')\n"
   ]
  },
  {
   "cell_type": "code",
   "execution_count": 18,
   "metadata": {
    "collapsed": true
   },
   "outputs": [],
   "source": [
    "df_24_26_2006 = df[ (df['Datetime'] >= datetime(2006,12,24,0,0,0) ) \n",
    "        &  (df['Datetime'] < datetime(2006,12,27,0,0,0) ) ]\n",
    "\n",
    "df_24_26_2007 = df[ (df['Datetime'] >= datetime(2007,12,24,0,0,0) ) \n",
    "        &  (df['Datetime'] < datetime(2007,12,27,0,0,0) ) ]\n",
    "\n",
    "df_24_26_2008 = df[ (df['Datetime'] >= datetime(2008,12,24,0,0,0) ) \n",
    "        &  (df['Datetime'] < datetime(2008,12,27,0,0,0) ) ]\n",
    "\n",
    "df_24_26_2009 = df[ (df['Datetime'] >= datetime(2009,12,24,0,0,0) ) \n",
    "        &  (df['Datetime'] < datetime(2009,12,27,0,0,0) ) ]\n",
    "\n",
    "from statsmodels.nonparametric.smoothers_lowess import lowess\n",
    "filtered_2006 = lowess(np.array(df_24_26_2006.Global_active_power.tolist()), np.linspace(0,1,len(df_24_26_2006)), is_sorted=True, frac=0.01, it=0)\n",
    "filtered_2007 = lowess(np.array(df_24_26_2007.Global_active_power.tolist()), np.linspace(0,1,len(df_24_26_2007)), is_sorted=True, frac=0.01, it=0)\n",
    "filtered_2008 = lowess(np.array(df_24_26_2008.Global_active_power.tolist()), np.linspace(0,1,len(df_24_26_2008)), is_sorted=True, frac=0.01, it=0)\n",
    "filtered_2009 = lowess(np.array(df_24_26_2009.Global_active_power.tolist()), np.linspace(0,1,len(df_24_26_2009)), is_sorted=True, frac=0.01, it=0)\n",
    "\n",
    "#get the list of the time in each day (actually only need one of them)\n",
    "time_list_06 = get_time_from_dt_list(df_24_26_2006.Datetime.tolist())\n",
    "time_list_07 = get_time_from_dt_list(df_24_26_2007.Datetime.tolist())\n",
    "time_list_08 = get_time_from_dt_list(df_24_26_2008.Datetime.tolist())\n",
    "time_list_09 = get_time_from_dt_list(df_24_26_2006.Datetime.tolist())"
   ]
  },
  {
   "cell_type": "code",
   "execution_count": 19,
   "metadata": {
    "collapsed": false
   },
   "outputs": [
    {
     "data": {
      "text/html": [
       "<iframe id=\"igraph\" scrolling=\"no\" style=\"border:none;\" seamless=\"seamless\" src=\"https://plot.ly/~ariaspaul/8.embed\" height=\"525px\" width=\"100%\"></iframe>"
      ],
      "text/plain": [
       "<plotly.tools.PlotlyDisplay object>"
      ]
     },
     "execution_count": 19,
     "metadata": {},
     "output_type": "execute_result"
    }
   ],
   "source": [
    "df_24_26_2006 = df[ (df['Datetime'] >= datetime(2006,12,24,0,0,0) ) \n",
    "        &  (df['Datetime'] < datetime(2006,12,27,0,0,0) ) ]\n",
    "\n",
    "df_24_26_2007 = df[ (df['Datetime'] >= datetime(2007,12,24,0,0,0) ) \n",
    "        &  (df['Datetime'] < datetime(2007,12,27,0,0,0) ) ]\n",
    "\n",
    "df_24_26_2008 = df[ (df['Datetime'] >= datetime(2008,12,24,0,0,0) ) \n",
    "        &  (df['Datetime'] < datetime(2008,12,27,0,0,0) ) ]\n",
    "\n",
    "df_24_26_2009 = df[ (df['Datetime'] >= datetime(2009,12,24,0,0,0) ) \n",
    "        &  (df['Datetime'] < datetime(2009,12,27,0,0,0) ) ]\n",
    "\n",
    "from statsmodels.nonparametric.smoothers_lowess import lowess\n",
    "filtered_2006 = lowess(np.array(df_24_26_2006.Global_active_power.tolist()), np.linspace(0,1,len(df_24_26_2006)), is_sorted=True, frac=0.01, it=0)\n",
    "filtered_2007 = lowess(np.array(df_24_26_2007.Global_active_power.tolist()), np.linspace(0,1,len(df_24_26_2007)), is_sorted=True, frac=0.01, it=0)\n",
    "filtered_2008 = lowess(np.array(df_24_26_2008.Global_active_power.tolist()), np.linspace(0,1,len(df_24_26_2008)), is_sorted=True, frac=0.01, it=0)\n",
    "filtered_2009 = lowess(np.array(df_24_26_2009.Global_active_power.tolist()), np.linspace(0,1,len(df_24_26_2009)), is_sorted=True, frac=0.01, it=0)\n",
    "\n",
    "#get the list of the time in each day (actually only need one of them)\n",
    "time_list_06 = get_time_from_dt_list(df_24_26_2006.Datetime.tolist())\n",
    "time_list_07 = get_time_from_dt_list(df_24_26_2007.Datetime.tolist())\n",
    "time_list_08 = get_time_from_dt_list(df_24_26_2008.Datetime.tolist())\n",
    "time_list_09 = get_time_from_dt_list(df_24_26_2006.Datetime.tolist())\n",
    "\n",
    "trace_06 = go.Scatter(\n",
    "    x = df_24_26_2006.Datetime.tolist(),\n",
    "    y = filtered_2006[:,1],\n",
    "    mode = 'lines',\n",
    "    name = 'Global_active_power on Dec 24-26, 2006'\n",
    ")\n",
    "\n",
    "trace_07 = go.Scatter(\n",
    "    x = df_24_26_2006.Datetime.tolist(),\n",
    "    y = filtered_2007[:,1],\n",
    "    mode = 'lines',\n",
    "    name = 'Global_active_power on Dec 24-26, 2007'\n",
    ")\n",
    "\n",
    "trace_08 = go.Scatter(\n",
    "    x = df_24_26_2006.Datetime.tolist(),\n",
    "    y = filtered_2008[:,1],\n",
    "    mode = 'lines',\n",
    "    name = 'Global_active_power on Dec 24-26, 2008'\n",
    ")\n",
    "\n",
    "trace_09 = go.Scatter(\n",
    "    x = df_24_26_2006.Datetime.tolist(),\n",
    "    y = filtered_2009[:,1],\n",
    "    mode = 'lines',\n",
    "    name = 'Global_active_power on Dec 24-26, 2009'\n",
    ")\n",
    "\n",
    "\n",
    "data = [trace_06, trace_07, trace_08, trace_09]\n",
    "\n",
    "# Plot and embed in ipython notebook!\n",
    "#py.iplot(data, filename='scatter-mode')\n",
    "\n",
    "layout = go.Layout(\n",
    "    showlegend=False,\n",
    "    legend=dict(\n",
    "        x=0.1,\n",
    "        y=1\n",
    "    )\n",
    ")\n",
    "fig3 = go.Figure(data=data, layout=layout)\n",
    "py.iplot(fig3, filename='Global-active-power Daterange')"
   ]
  },
  {
   "cell_type": "code",
   "execution_count": 25,
   "metadata": {
    "collapsed": false,
    "scrolled": false
   },
   "outputs": [
    {
     "data": {
      "text/html": [
       "<iframe id=\"igraph\" scrolling=\"no\" style=\"border:none;\" seamless=\"seamless\" src=\"https://plot.ly/~ariaspaul/8.embed\" height=\"525px\" width=\"100%\"></iframe>"
      ],
      "text/plain": [
       "<plotly.tools.PlotlyDisplay object>"
      ]
     },
     "execution_count": 25,
     "metadata": {},
     "output_type": "execute_result"
    }
   ],
   "source": [
    "\n",
    "df_12_14_2007 = df[ (df['Datetime'] >= datetime(2007,11,12,0,0,0) ) \n",
    "        &  (df['Datetime'] < datetime(2007,11,14,0,0,0) ) ]\n",
    "\n",
    "df_12_14_2007 = df_12_14_2007.sort_values('Datetime')\n",
    "\n",
    "df_12_14_2008 = df[ (df['Datetime'] >= datetime(2008,11,12,0,0,0) ) \n",
    "        &  (df['Datetime'] < datetime(2008,11,14,0,0,0) ) ]\n",
    "\n",
    "df_12_14_2008 = df_12_14_2008.sort_values('Datetime')\n",
    "\n",
    "df_12_14_2009 = df[ (df['Datetime'] >= datetime(2009,11,12,0,0,0) ) \n",
    "        &  (df['Datetime'] < datetime(2009,11,14,0,0,0) ) ]\n",
    "\n",
    "df_12_14_2009 = df_12_14_2009.sort_values('Datetime')\n",
    "\n",
    "from statsmodels.nonparametric.smoothers_lowess import lowess\n",
    "filtered_2007 = lowess(np.array(df_12_14_2007.Global_active_power.tolist()), np.linspace(0,1,len(df_12_14_2007)), is_sorted=True, frac=0.01, it=0)\n",
    "filtered_2008 = lowess(np.array(df_12_14_2008.Global_active_power.tolist()), np.linspace(0,1,len(df_12_14_2008)), is_sorted=True, frac=0.01, it=0)\n",
    "filtered_2009 = lowess(np.array(df_12_14_2009.Global_active_power.tolist()), np.linspace(0,1,len(df_12_14_2009)), is_sorted=True, frac=0.01, it=0)\n",
    "\n",
    "#get the list of the time in each day (actually only need one of them)\n",
    "\n",
    "\n",
    "\n",
    "trace_07 = go.Scatter(\n",
    "    x = df_12_14_2007.Datetime.tolist(),\n",
    "    y = filtered_2007[:,1],\n",
    "    mode = 'lines',\n",
    "    name = 'Global_active_power on Nov 12-14, 2006'\n",
    ")\n",
    "\n",
    "trace_08 = go.Scatter(\n",
    "    x = df_12_14_2007.Datetime.tolist(),\n",
    "    y = filtered_2008[:,1],\n",
    "    mode = 'lines',\n",
    "    name = 'Global_active_power on Nov 12-14, 2006'\n",
    ")\n",
    "\n",
    "trace_09 = go.Scatter(\n",
    "    x = df_12_14_2007.Datetime.tolist(),\n",
    "    y = filtered_2009[:,1],\n",
    "    mode = 'lines',\n",
    "    name = 'Global_active_power on Nov 12-14, 2006'\n",
    ")\n",
    "\n",
    "\n",
    "data = [trace_07, trace_08, trace_09]\n",
    "\n",
    "# Plot and embed in ipython notebook!\n",
    "#py.iplot(data, filename='scatter-mode')\n",
    "\n",
    "layout = go.Layout(\n",
    "    showlegend=True,\n",
    "    legend=dict(\n",
    "        x=0.1,\n",
    "        y=1\n",
    "    )\n",
    ")\n",
    "\n",
    "fig4 = go.Figure(data=data, layout=layout)\n",
    "py.iplot(fig4, filename='Global-active-power Daterange')"
   ]
  },
  {
   "cell_type": "code",
   "execution_count": 82,
   "metadata": {
    "collapsed": false
   },
   "outputs": [],
   "source": [
    "#dayofweek(datetime(2007,11,12,0,0,0).weekday())"
   ]
  },
  {
   "cell_type": "code",
   "execution_count": null,
   "metadata": {
    "collapsed": true
   },
   "outputs": [],
   "source": []
  }
 ],
 "metadata": {
  "kernelspec": {
   "display_name": "Python 2",
   "language": "python",
   "name": "python2"
  },
  "language_info": {
   "codemirror_mode": {
    "name": "ipython",
    "version": 2
   },
   "file_extension": ".py",
   "mimetype": "text/x-python",
   "name": "python",
   "nbconvert_exporter": "python",
   "pygments_lexer": "ipython2",
   "version": "2.7.11"
  }
 },
 "nbformat": 4,
 "nbformat_minor": 0
}
